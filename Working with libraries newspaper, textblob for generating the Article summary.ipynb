{
 "cells": [
  {
   "cell_type": "markdown",
   "metadata": {},
   "source": [
    "** Working on an article to fetch the data,title,author,keywords and generating the article summary and saving in .csv file using libraries such as newspaper, textblob**"
   ]
  },
  {
   "cell_type": "code",
   "execution_count": 1,
   "metadata": {
    "collapsed": true
   },
   "outputs": [],
   "source": [
    "import newspaper\n",
    "import textblob\n",
    "import pandas as pd\n",
    "from textblob import TextBlob"
   ]
  },
  {
   "cell_type": "markdown",
   "metadata": {},
   "source": [
    "**Fetching data from mentioned url through library newspaper**"
   ]
  },
  {
   "cell_type": "code",
   "execution_count": 2,
   "metadata": {
    "collapsed": true
   },
   "outputs": [],
   "source": [
    "url = 'https://www.bloomberg.com/news/articles/2018-03-07/bitcoin-dives-after-sec-says-crypto-platforms-must-be-registered'\n",
    "article = newspaper.Article(url)\n",
    "article.download()\n",
    "article.parse()"
   ]
  },
  {
   "cell_type": "markdown",
   "metadata": {},
   "source": [
    "** Finding out the title of an Article**"
   ]
  },
  {
   "cell_type": "code",
   "execution_count": 3,
   "metadata": {},
   "outputs": [
    {
     "data": {
      "text/plain": [
       "'Bitcoin Steadies Amid U.S., Japan Regulatory Clampdown Concern'"
      ]
     },
     "execution_count": 3,
     "metadata": {},
     "output_type": "execute_result"
    }
   ],
   "source": [
    "article.title"
   ]
  },
  {
   "cell_type": "code",
   "execution_count": 4,
   "metadata": {
    "collapsed": true
   },
   "outputs": [],
   "source": [
    "article.nlp()"
   ]
  },
  {
   "cell_type": "markdown",
   "metadata": {},
   "source": [
    "**Finding the keywords from article**"
   ]
  },
  {
   "cell_type": "code",
   "execution_count": 5,
   "metadata": {},
   "outputs": [
    {
     "data": {
      "text/plain": [
       "['exchange',\n",
       " 'securities',\n",
       " 'binance',\n",
       " 'clampdown',\n",
       " 'amid',\n",
       " 'sec',\n",
       " 'agency',\n",
       " 'statement',\n",
       " 'exchanges',\n",
       " 'japan',\n",
       " 'regulatory',\n",
       " 'bitcoin',\n",
       " 'platforms',\n",
       " 'cryptocurrency',\n",
       " 'trading',\n",
       " 'steadies',\n",
       " 'concern']"
      ]
     },
     "execution_count": 5,
     "metadata": {},
     "output_type": "execute_result"
    }
   ],
   "source": [
    "article.keywords"
   ]
  },
  {
   "cell_type": "code",
   "execution_count": 6,
   "metadata": {},
   "outputs": [
    {
     "data": {
      "text/plain": [
       "'Bitcoin steadied after two days of losses as investors weighed the impact of a clampdown on cryptocurrency exchanges in Japan and renewed regulatory scrutiny of the venues in the U.S.\\nThe moves are the latest in a series of efforts by global regulators to increase oversight of the industry.\\nThe clampdown in Japan, one of the few major countries to develop a licensing system for cryptocurrency exchanges, came a month after Tokyo-based Coincheck Inc. lost nearly $500 million in the biggest cyber theft of its kind.\\nSome of the largest cryptocurrency trading platforms, including Coinbase Inc.’s GDAX, aren’t registered as a exchange with the SEC, and instead have money transmission licenses with separate states.\\n“The trading of ICO tokens that are unregistered securities on unlicensed exchanges has gone on for far too long.'"
      ]
     },
     "execution_count": 6,
     "metadata": {},
     "output_type": "execute_result"
    }
   ],
   "source": [
    "article.summary"
   ]
  },
  {
   "cell_type": "code",
   "execution_count": 13,
   "metadata": {},
   "outputs": [
    {
     "data": {
      "text/plain": [
       "Sentence(\"The biggest virtual currency was flat at just under $10,000 as of 8:38 a.m. in London, after earlier slumping more than 4 percent during Asia trading hours.\")"
      ]
     },
     "execution_count": 13,
     "metadata": {},
     "output_type": "execute_result"
    }
   ],
   "source": [
    "blob2 = TextBlob(article.text)\n",
    "blob2.sentences[1]"
   ]
  },
  {
   "cell_type": "markdown",
   "metadata": {},
   "source": [
    "** Generating the summary of an Article**"
   ]
  },
  {
   "cell_type": "code",
   "execution_count": 14,
   "metadata": {},
   "outputs": [
    {
     "data": {
      "text/plain": [
       "31"
      ]
     },
     "execution_count": 14,
     "metadata": {},
     "output_type": "execute_result"
    }
   ],
   "source": [
    "wordlist = pd.DataFrame()\n",
    "ssList=[]\n",
    "for t in blob2.sentences:\n",
    "    ww = []\n",
    "    for word, tag in t.tags:\n",
    "        if tag in ('NN', 'NNS', 'NNP', 'NNPS', 'VB', 'VBD', 'VBG', 'VBN', 'VBP', 'VBZ'):\n",
    "            ww.append(word.lemmatize())\n",
    "    ss = ' '.join(ww)\n",
    "    ssList.append(ss.lower())\n",
    "wordlist = wordlist.append(ssList, ignore_index=True)    \n",
    "\n",
    "wordlist\n",
    "len(blob2.sentences)"
   ]
  },
  {
   "cell_type": "markdown",
   "metadata": {},
   "source": [
    "** Saving article summary directly to .csv file using .to_csv function**"
   ]
  },
  {
   "cell_type": "code",
   "execution_count": 15,
   "metadata": {},
   "outputs": [],
   "source": [
    "wordlist.to_csv('Articlesummary.csv')"
   ]
  }
 ],
 "metadata": {
  "kernelspec": {
   "display_name": "Python 3",
   "language": "python",
   "name": "python3"
  },
  "language_info": {
   "codemirror_mode": {
    "name": "ipython",
    "version": 3
   },
   "file_extension": ".py",
   "mimetype": "text/x-python",
   "name": "python",
   "nbconvert_exporter": "python",
   "pygments_lexer": "ipython3",
   "version": "3.6.1"
  }
 },
 "nbformat": 4,
 "nbformat_minor": 2
}
